{
  "nbformat": 4,
  "nbformat_minor": 0,
  "metadata": {
    "colab": {
      "provenance": []
    },
    "kernelspec": {
      "name": "python3",
      "display_name": "Python 3"
    },
    "language_info": {
      "name": "python"
    }
  },
  "cells": [
    {
      "cell_type": "code",
      "source": [
        "print(\"manoj\")\n",
        "print(\"hello\")"
      ],
      "metadata": {
        "colab": {
          "base_uri": "https://localhost:8080/"
        },
        "id": "beAnLTktaDb_",
        "outputId": "545b86a7-10e1-4865-ffe0-5005afeb9476"
      },
      "execution_count": 6,
      "outputs": [
        {
          "output_type": "stream",
          "name": "stdout",
          "text": [
            "manoj\n",
            "hello\n"
          ]
        }
      ]
    },
    {
      "cell_type": "code",
      "source": [],
      "metadata": {
        "id": "yWcCk9hRaMa7"
      },
      "execution_count": 6,
      "outputs": []
    },
    {
      "cell_type": "code",
      "source": [
        "user_input = input(\"enter the number:\")\n",
        "print(\"user_input\")"
      ],
      "metadata": {
        "colab": {
          "base_uri": "https://localhost:8080/"
        },
        "id": "L1tDXWGgjM5y",
        "outputId": "6769cca3-bce3-4930-cb7c-37ae0050c34c"
      },
      "execution_count": 7,
      "outputs": [
        {
          "output_type": "stream",
          "name": "stdout",
          "text": [
            "enter the number:21\n",
            "user_input\n"
          ]
        }
      ]
    },
    {
      "cell_type": "code",
      "source": [
        "num = float(input(\"enter the number:\"))\n",
        "if num > 0:\n",
        "  print(\"positive number\")\n",
        "elif num < 0:\n",
        "  print(\"negative number\")\n",
        "else:\n",
        "  print(\"zero\")"
      ],
      "metadata": {
        "colab": {
          "base_uri": "https://localhost:8080/"
        },
        "id": "8fHQjG6O3cQY",
        "outputId": "d1a1e9ad-2b89-4216-f989-a999e78d35c7"
      },
      "execution_count": 8,
      "outputs": [
        {
          "output_type": "stream",
          "name": "stdout",
          "text": [
            "enter the number:21\n",
            "positive number\n"
          ]
        }
      ]
    },
    {
      "cell_type": "code",
      "source": [
        "a = float(input(\"Enter first number: \"))\n",
        "b = float(input(\"Enter second number: \"))\n",
        "c = float(input(\"Enter third number: \"))\n",
        "\n",
        "if a >= b and a >= c:\n",
        "    print(\"Largest number is:\", a)\n",
        "elif b >= a and b >= c:\n",
        "    print(\"Largest number is:\", b)\n",
        "else:\n",
        "    print(\"Largest number is:\", c)\n"
      ],
      "metadata": {
        "colab": {
          "base_uri": "https://localhost:8080/"
        },
        "id": "TeOSIvKy3-Ky",
        "outputId": "b39e8acc-cd04-4370-c2c4-a9148567dc0f"
      },
      "execution_count": 9,
      "outputs": [
        {
          "output_type": "stream",
          "name": "stdout",
          "text": [
            "Enter first number: 22\n",
            "Enter second number: 22\n",
            "Enter third number: 11\n",
            "Largest number is: 22.0\n"
          ]
        }
      ]
    },
    {
      "cell_type": "code",
      "source": [
        "# varbiable and data types\n",
        "my_integer = 10\n",
        "my_float = 3.24\n",
        "my_string = \"Manoj\"\n",
        "#print the values and types of the variable\n",
        "my_boolean = True\n",
        "print(\"Value of my_integer:\", my_integer, \"| Type:\", type(my_integer))\n",
        "print(\"Value of my_float:\", my_float, \"| Type:\", type(my_float))\n",
        "print(\"Value of my_string:\", my_string, \"| Type:\", type(my_string))\n",
        "print(\"Value of my_boolean:\", my_boolean, \"| Type:\", type(my_boolean))"
      ],
      "metadata": {
        "colab": {
          "base_uri": "https://localhost:8080/"
        },
        "id": "5UuEqWmRaSjN",
        "outputId": "e9e8f4f1-940e-4753-b53d-54ef04978219"
      },
      "execution_count": 10,
      "outputs": [
        {
          "output_type": "stream",
          "name": "stdout",
          "text": [
            "Value of my_integer: 10 | Type: <class 'int'>\n",
            "Value of my_float: 3.24 | Type: <class 'float'>\n",
            "Value of my_string: Manoj | Type: <class 'str'>\n",
            "Value of my_boolean: True | Type: <class 'bool'>\n"
          ]
        }
      ]
    },
    {
      "cell_type": "code",
      "source": [
        "var1 = 10\n",
        "var2 = 20\n",
        "print(F\"before swapping: var1 = {var1}, var2 = {var2}\")\n",
        "var1, var2 = var2, var1\n",
        "print(F\"after swapping: var1 = {var1}, var2 = {var2}\")\n"
      ],
      "metadata": {
        "id": "utnLsjjdaSQ4",
        "colab": {
          "base_uri": "https://localhost:8080/"
        },
        "outputId": "ef6a0ab6-ef0b-43ba-a0ac-9e49d458918c"
      },
      "execution_count": 11,
      "outputs": [
        {
          "output_type": "stream",
          "name": "stdout",
          "text": [
            "before swapping: var1 = 10, var2 = 20\n",
            "after swapping: var1 = 20, var2 = 10\n"
          ]
        }
      ]
    },
    {
      "cell_type": "code",
      "source": [
        "def celsius_to_fahrenheit(celsius):\n",
        "    fahrenheit = (celsius * 9/5) + 32\n",
        "    return fahrenheit\n",
        "    #Get input from the user\n",
        "    celsius = float(input(\"Enter temperature in Celsius: \"))\n",
        "    #Convert and print the result\n",
        "    fahrenheit_temp = celsius_to_fahrenheit(celsius)\n",
        "    print(f\"{celsius} degrees Celsius is equal to {fahrenheit_temp} degrees Fahrenheit\")"
      ],
      "metadata": {
        "id": "FBnagEudaSGZ"
      },
      "execution_count": 14,
      "outputs": []
    },
    {
      "cell_type": "code",
      "source": [
        "my_variable = 10\n",
        "if isinstance(my_variable, int):\n",
        "  print(\"my_variable is an integer\")\n",
        "else:\n",
        "  print(\"my_variable is not an integer\")\n",
        "  #check if the variable is a string\n",
        "  if isinstance(my_variable, str):\n",
        "    print(\"my_variable is a string\")\n",
        "  else:\n",
        "    print(\"my_variable is not a string\")\n"
      ],
      "metadata": {
        "id": "jzYN-cI6aR65",
        "colab": {
          "base_uri": "https://localhost:8080/"
        },
        "outputId": "af7657b0-a7c0-4ace-a561-c83826694c93"
      },
      "execution_count": 13,
      "outputs": [
        {
          "output_type": "stream",
          "name": "stdout",
          "text": [
            "my_variable is an integer\n"
          ]
        }
      ]
    },
    {
      "cell_type": "code",
      "source": [
        "num1 = float(input(\"Enter first number: \"))\n",
        "num2 = float(input(\"Enter second number: \"))\n",
        "#perform arithmetic operations\n",
        "addition  = num1 +num2\n",
        "subtraction = num1 * num2\n",
        "#check for divison by zero before performing divison\n",
        "if num2 !=0:\n",
        "  divison = num1 / num2\n",
        "else:\n",
        "    divison = \"cannot divide by zero\"\n",
        "    #print the results\n",
        "    print(f\"{num1} + {num2} = {addition}\")\n",
        "    print(f\"{num1} - {num2} = {subtraction}\")\n",
        "    print(f\"{num1} / {num2} = {divison}\")"
      ],
      "metadata": {
        "id": "k8_6xGh9aRsL",
        "colab": {
          "base_uri": "https://localhost:8080/"
        },
        "outputId": "1544448f-fa47-45b1-907f-da7a2170a65c"
      },
      "execution_count": 16,
      "outputs": [
        {
          "name": "stdout",
          "output_type": "stream",
          "text": [
            "Enter first number: 21\n",
            "Enter second number: 44\n"
          ]
        }
      ]
    },
    {
      "cell_type": "code",
      "source": [
        "num1 = 15\n",
        "num2 = 10\n",
        "#demostrate equal to ==\n",
        "print(f\"{num1} == {num2} is {num1 == num2}\")\n",
        "#not equal to !=\n",
        "print(f\"{num1} != {num2} is {num1 != num2}\")\n",
        "#greater than >\n",
        "print(f\"{num1} > {num2} is {num1 > num2}\")\n",
        "#less than <\n",
        "print(f\"{num1} < {num2} is {num1 < num2}\")\n",
        "#greater than or equal to >=\n",
        "print(f\"{num1} >= {num2} is {num1 >= num2}\")\n",
        "#less than or equal to <=\n",
        "print(f\"{num1} <= {num2} is {num1 <= num2}\")"
      ],
      "metadata": {
        "colab": {
          "base_uri": "https://localhost:8080/"
        },
        "id": "CAUHpp-iVjT4",
        "outputId": "b15ef10a-da56-48a7-9598-9c255bc45f94"
      },
      "execution_count": 17,
      "outputs": [
        {
          "output_type": "stream",
          "name": "stdout",
          "text": [
            "15 == 10 is False\n",
            "15 != 10 is True\n",
            "15 > 10 is True\n",
            "15 < 10 is False\n",
            "15 >= 10 is True\n",
            "15 <= 10 is False\n"
          ]
        }
      ]
    },
    {
      "cell_type": "code",
      "source": [],
      "metadata": {
        "id": "xWqHh_5PVjM2"
      },
      "execution_count": null,
      "outputs": []
    },
    {
      "cell_type": "code",
      "source": [],
      "metadata": {
        "id": "QtoQ932jVjFU"
      },
      "execution_count": null,
      "outputs": []
    },
    {
      "cell_type": "code",
      "source": [],
      "metadata": {
        "id": "6qF0SHewViz6"
      },
      "execution_count": null,
      "outputs": []
    }
  ]
}